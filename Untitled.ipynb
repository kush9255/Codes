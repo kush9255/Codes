{
 "cells": [
  {
   "cell_type": "code",
   "execution_count": 30,
   "id": "35f8ab82",
   "metadata": {},
   "outputs": [],
   "source": [
    "import numpy as np\n",
    "import pandas as pd"
   ]
  },
  {
   "cell_type": "code",
   "execution_count": 31,
   "id": "09eff238",
   "metadata": {},
   "outputs": [],
   "source": [
    "xls=pd.ExcelFile('LSVT_voice_rehabilitation.xlsx')\n",
    "df1=pd.read_excel(xls,'Data')\n",
    "df2=pd.read_excel(xls,'Binary response')"
   ]
  },
  {
   "cell_type": "code",
   "execution_count": 32,
   "id": "01afe99f",
   "metadata": {},
   "outputs": [
    {
     "data": {
      "text/plain": [
       "(126, 310)"
      ]
     },
     "execution_count": 32,
     "metadata": {},
     "output_type": "execute_result"
    }
   ],
   "source": [
    "df1.shape"
   ]
  },
  {
   "cell_type": "code",
   "execution_count": 33,
   "id": "c953575c",
   "metadata": {},
   "outputs": [
    {
     "data": {
      "text/plain": [
       "(126, 1)"
      ]
     },
     "execution_count": 33,
     "metadata": {},
     "output_type": "execute_result"
    }
   ],
   "source": [
    "df2.shape"
   ]
  },
  {
   "cell_type": "code",
   "execution_count": 34,
   "id": "c42cae5e",
   "metadata": {},
   "outputs": [],
   "source": [
    "X=df1.to_numpy()\n",
    "Y=df2.to_numpy()"
   ]
  },
  {
   "cell_type": "markdown",
   "id": "af103a31",
   "metadata": {},
   "source": [
    "# splitting Data"
   ]
  },
  {
   "cell_type": "code",
   "execution_count": 35,
   "id": "eeae3ec0",
   "metadata": {},
   "outputs": [],
   "source": [
    "np.random.seed(0)\n",
    "s=np.array([i for i in range (df1.shape[0])])\n",
    "np.random.shuffle(s)\n",
    "train_index=s[:63]\n",
    "test_index=s[63:]"
   ]
  },
  {
   "cell_type": "code",
   "execution_count": null,
   "id": "0b28d756",
   "metadata": {},
   "outputs": [],
   "source": []
  },
  {
   "cell_type": "code",
   "execution_count": 36,
   "id": "f8807d64",
   "metadata": {},
   "outputs": [],
   "source": [
    "x_train=X[train_index]\n",
    "y_train=Y[train_index].ravel()\n",
    "\n",
    "x_test=X[test_index]\n",
    "y_test=Y[test_index].ravel()"
   ]
  },
  {
   "cell_type": "code",
   "execution_count": null,
   "id": "dac57f5f",
   "metadata": {},
   "outputs": [],
   "source": []
  },
  {
   "cell_type": "markdown",
   "id": "22e109f9",
   "metadata": {},
   "source": [
    "# formatting data"
   ]
  },
  {
   "cell_type": "code",
   "execution_count": 37,
   "id": "5de85ebd",
   "metadata": {},
   "outputs": [],
   "source": [
    "from sklearn.preprocessing import StandardScaler\n",
    "scaler=StandardScaler()\n",
    "scaler.fit(x_train)\n",
    "x_train=scaler.transform(x_train)\n",
    "x_test=scaler.transform(x_test)"
   ]
  },
  {
   "cell_type": "code",
   "execution_count": 38,
   "id": "60278a47",
   "metadata": {},
   "outputs": [
    {
     "data": {
      "text/plain": [
       "0.8888888888888888"
      ]
     },
     "execution_count": 38,
     "metadata": {},
     "output_type": "execute_result"
    }
   ],
   "source": [
    "from sklearn.linear_model import Perceptron\n",
    "clf=Perceptron().fit(x_train,y_train)\n",
    "clf.score(x_test,y_test)"
   ]
  },
  {
   "cell_type": "code",
   "execution_count": 39,
   "id": "293194c1",
   "metadata": {},
   "outputs": [
    {
     "data": {
      "text/plain": [
       "0.8571428571428571"
      ]
     },
     "execution_count": 39,
     "metadata": {},
     "output_type": "execute_result"
    }
   ],
   "source": [
    "from sklearn.linear_model import LogisticRegression\n",
    "clf=LogisticRegression().fit(x_train,y_train)\n",
    "clf.score(x_test,y_test)"
   ]
  },
  {
   "cell_type": "markdown",
   "id": "84c1c7ee",
   "metadata": {},
   "source": [
    "# new feature map"
   ]
  },
  {
   "cell_type": "code",
   "execution_count": 40,
   "id": "663bd0ad",
   "metadata": {},
   "outputs": [],
   "source": [
    "phix=lambda a : np.hstack([a,a**2])\n",
    "phix_train=phix(x_train)\n",
    "phix_test=phix(x_test)"
   ]
  },
  {
   "cell_type": "code",
   "execution_count": 41,
   "id": "43338357",
   "metadata": {},
   "outputs": [
    {
     "data": {
      "text/plain": [
       "0.8253968253968254"
      ]
     },
     "execution_count": 41,
     "metadata": {},
     "output_type": "execute_result"
    }
   ],
   "source": [
    "from sklearn.linear_model import Perceptron\n",
    "clf=Perceptron().fit(phix_train,y_train)\n",
    "clf.score(phix_test,y_test)"
   ]
  },
  {
   "cell_type": "code",
   "execution_count": 42,
   "id": "f5b992c8",
   "metadata": {},
   "outputs": [
    {
     "data": {
      "text/plain": [
       "0.8412698412698413"
      ]
     },
     "execution_count": 42,
     "metadata": {},
     "output_type": "execute_result"
    }
   ],
   "source": [
    "from sklearn.linear_model import LogisticRegression\n",
    "clf=LogisticRegression().fit(phix_train,y_train)\n",
    "clf.score(phix_test,y_test)"
   ]
  },
  {
   "cell_type": "code",
   "execution_count": null,
   "id": "8d088506",
   "metadata": {},
   "outputs": [],
   "source": []
  },
  {
   "cell_type": "code",
   "execution_count": null,
   "id": "e2febde9",
   "metadata": {},
   "outputs": [],
   "source": []
  }
 ],
 "metadata": {
  "kernelspec": {
   "display_name": "Python 3 (ipykernel)",
   "language": "python",
   "name": "python3"
  },
  "language_info": {
   "codemirror_mode": {
    "name": "ipython",
    "version": 3
   },
   "file_extension": ".py",
   "mimetype": "text/x-python",
   "name": "python",
   "nbconvert_exporter": "python",
   "pygments_lexer": "ipython3",
   "version": "3.10.7"
  }
 },
 "nbformat": 4,
 "nbformat_minor": 5
}
